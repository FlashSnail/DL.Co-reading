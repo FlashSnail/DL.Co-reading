{
 "cells": [
  {
   "cell_type": "code",
   "execution_count": 25,
   "metadata": {},
   "outputs": [],
   "source": [
    "from keras.layers import Input, Dense\n",
    "from keras.models import Model\n",
    "from keras.datasets import mnist\n",
    "import numpy as np\n",
    "import matplotlib.pyplot as plt\n",
    "from sklearn import datasets"
   ]
  },
  {
   "cell_type": "code",
   "execution_count": 2,
   "metadata": {},
   "outputs": [],
   "source": [
    "digits = datasets.load_digits(n_class=10)\n",
    "X = digits.data\n",
    "y = digits.target"
   ]
  },
  {
   "cell_type": "code",
   "execution_count": 3,
   "metadata": {},
   "outputs": [],
   "source": [
    "x_train = X.astype('float32') / 255"
   ]
  },
  {
   "cell_type": "code",
   "execution_count": 20,
   "metadata": {},
   "outputs": [],
   "source": [
    "encoding_dim = 2\n",
    "input_img = Input(shape=(64,))\n",
    " \n",
    "encoded = Dense(encoding_dim)(input_img)\n",
    "decoded = Dense(64)(encoded)\n",
    " \n",
    "autoencoder = Model(inputs=input_img, outputs=decoded)\n",
    "encoder = Model(inputs=input_img, outputs=encoded)\n",
    " \n",
    "encoded_input = Input(shape=(encoding_dim,))\n",
    "decoder_layer = autoencoder.layers[-1]\n",
    " \n",
    "decoder = Model(inputs=encoded_input, outputs=decoder_layer(encoded_input))"
   ]
  },
  {
   "cell_type": "code",
   "execution_count": 21,
   "metadata": {},
   "outputs": [
    {
     "name": "stdout",
     "output_type": "stream",
     "text": [
      "Train on 1797 samples, validate on 1797 samples\n",
      "Epoch 1/50\n",
      "1797/1797 [==============================] - 0s 113us/step - loss: 0.1646 - val_loss: 0.1191\n",
      "Epoch 2/50\n",
      "1797/1797 [==============================] - 0s 13us/step - loss: 0.1087 - val_loss: 0.0999\n",
      "Epoch 3/50\n",
      "1797/1797 [==============================] - 0s 13us/step - loss: 0.0976 - val_loss: 0.0953\n",
      "Epoch 4/50\n",
      "1797/1797 [==============================] - 0s 13us/step - loss: 0.0944 - val_loss: 0.0935\n",
      "Epoch 5/50\n",
      "1797/1797 [==============================] - 0s 13us/step - loss: 0.0931 - val_loss: 0.0926\n",
      "Epoch 6/50\n",
      "1797/1797 [==============================] - 0s 13us/step - loss: 0.0922 - val_loss: 0.0916\n",
      "Epoch 7/50\n",
      "1797/1797 [==============================] - 0s 12us/step - loss: 0.0913 - val_loss: 0.0907\n",
      "Epoch 8/50\n",
      "1797/1797 [==============================] - 0s 12us/step - loss: 0.0905 - val_loss: 0.0902\n",
      "Epoch 9/50\n",
      "1797/1797 [==============================] - 0s 12us/step - loss: 0.0900 - val_loss: 0.0897\n",
      "Epoch 10/50\n",
      "1797/1797 [==============================] - 0s 12us/step - loss: 0.0896 - val_loss: 0.0893\n",
      "Epoch 11/50\n",
      "1797/1797 [==============================] - 0s 13us/step - loss: 0.0892 - val_loss: 0.0890\n",
      "Epoch 12/50\n",
      "1797/1797 [==============================] - 0s 12us/step - loss: 0.0889 - val_loss: 0.0887\n",
      "Epoch 13/50\n",
      "1797/1797 [==============================] - 0s 11us/step - loss: 0.0886 - val_loss: 0.0884\n",
      "Epoch 14/50\n",
      "1797/1797 [==============================] - 0s 12us/step - loss: 0.0883 - val_loss: 0.0882\n",
      "Epoch 15/50\n",
      "1797/1797 [==============================] - 0s 12us/step - loss: 0.0881 - val_loss: 0.0880\n",
      "Epoch 16/50\n",
      "1797/1797 [==============================] - 0s 11us/step - loss: 0.0879 - val_loss: 0.0878\n",
      "Epoch 17/50\n",
      "1797/1797 [==============================] - 0s 12us/step - loss: 0.0878 - val_loss: 0.0877\n",
      "Epoch 18/50\n",
      "1797/1797 [==============================] - 0s 11us/step - loss: 0.0876 - val_loss: 0.0876\n",
      "Epoch 19/50\n",
      "1797/1797 [==============================] - 0s 11us/step - loss: 0.0875 - val_loss: 0.0874\n",
      "Epoch 20/50\n",
      "1797/1797 [==============================] - 0s 12us/step - loss: 0.0874 - val_loss: 0.0873\n",
      "Epoch 21/50\n",
      "1797/1797 [==============================] - 0s 11us/step - loss: 0.0873 - val_loss: 0.0873\n",
      "Epoch 22/50\n",
      "1797/1797 [==============================] - 0s 12us/step - loss: 0.0872 - val_loss: 0.0872\n",
      "Epoch 23/50\n",
      "1797/1797 [==============================] - 0s 12us/step - loss: 0.0872 - val_loss: 0.0871\n",
      "Epoch 24/50\n",
      "1797/1797 [==============================] - 0s 12us/step - loss: 0.0871 - val_loss: 0.0871\n",
      "Epoch 25/50\n",
      "1797/1797 [==============================] - 0s 12us/step - loss: 0.0871 - val_loss: 0.0870\n",
      "Epoch 26/50\n",
      "1797/1797 [==============================] - 0s 12us/step - loss: 0.0870 - val_loss: 0.0870\n",
      "Epoch 27/50\n",
      "1797/1797 [==============================] - 0s 12us/step - loss: 0.0870 - val_loss: 0.0870\n",
      "Epoch 28/50\n",
      "1797/1797 [==============================] - 0s 12us/step - loss: 0.0870 - val_loss: 0.0870\n",
      "Epoch 29/50\n",
      "1797/1797 [==============================] - 0s 12us/step - loss: 0.0870 - val_loss: 0.0869\n",
      "Epoch 30/50\n",
      "1797/1797 [==============================] - 0s 11us/step - loss: 0.0869 - val_loss: 0.0869\n",
      "Epoch 31/50\n",
      "1797/1797 [==============================] - 0s 12us/step - loss: 0.0869 - val_loss: 0.0869\n",
      "Epoch 32/50\n",
      "1797/1797 [==============================] - 0s 12us/step - loss: 0.0869 - val_loss: 0.0869\n",
      "Epoch 33/50\n",
      "1797/1797 [==============================] - 0s 13us/step - loss: 0.0869 - val_loss: 0.0868\n",
      "Epoch 34/50\n",
      "1797/1797 [==============================] - 0s 12us/step - loss: 0.0868 - val_loss: 0.0868\n",
      "Epoch 35/50\n",
      "1797/1797 [==============================] - 0s 12us/step - loss: 0.0868 - val_loss: 0.0868\n",
      "Epoch 36/50\n",
      "1797/1797 [==============================] - 0s 11us/step - loss: 0.0868 - val_loss: 0.0868\n",
      "Epoch 37/50\n",
      "1797/1797 [==============================] - 0s 11us/step - loss: 0.0868 - val_loss: 0.0868\n",
      "Epoch 38/50\n",
      "1797/1797 [==============================] - 0s 12us/step - loss: 0.0868 - val_loss: 0.0868\n",
      "Epoch 39/50\n",
      "1797/1797 [==============================] - 0s 12us/step - loss: 0.0868 - val_loss: 0.0868\n",
      "Epoch 40/50\n",
      "1797/1797 [==============================] - 0s 13us/step - loss: 0.0868 - val_loss: 0.0868\n",
      "Epoch 41/50\n",
      "1797/1797 [==============================] - 0s 12us/step - loss: 0.0868 - val_loss: 0.0868\n",
      "Epoch 42/50\n",
      "1797/1797 [==============================] - 0s 12us/step - loss: 0.0868 - val_loss: 0.0868\n",
      "Epoch 43/50\n",
      "1797/1797 [==============================] - 0s 12us/step - loss: 0.0868 - val_loss: 0.0868\n",
      "Epoch 44/50\n",
      "1797/1797 [==============================] - 0s 12us/step - loss: 0.0868 - val_loss: 0.0867\n",
      "Epoch 45/50\n",
      "1797/1797 [==============================] - 0s 12us/step - loss: 0.0867 - val_loss: 0.0868\n",
      "Epoch 46/50\n",
      "1797/1797 [==============================] - 0s 12us/step - loss: 0.0867 - val_loss: 0.0868\n",
      "Epoch 47/50\n",
      "1797/1797 [==============================] - 0s 12us/step - loss: 0.0867 - val_loss: 0.0867\n",
      "Epoch 48/50\n",
      "1797/1797 [==============================] - 0s 12us/step - loss: 0.0867 - val_loss: 0.0867\n",
      "Epoch 49/50\n",
      "1797/1797 [==============================] - 0s 12us/step - loss: 0.0867 - val_loss: 0.0867\n",
      "Epoch 50/50\n",
      "1797/1797 [==============================] - 0s 12us/step - loss: 0.0867 - val_loss: 0.0867\n"
     ]
    },
    {
     "data": {
      "text/plain": [
       "<keras.callbacks.History at 0x20c8c1f1dd8>"
      ]
     },
     "execution_count": 21,
     "metadata": {},
     "output_type": "execute_result"
    }
   ],
   "source": [
    "autoencoder.compile(optimizer='adadelta', loss='binary_crossentropy')\n",
    " \n",
    "autoencoder.fit(x_train, x_train, epochs=50, batch_size=256, \n",
    "                shuffle=True, validation_data=(x_train, x_train))"
   ]
  },
  {
   "cell_type": "code",
   "execution_count": 22,
   "metadata": {},
   "outputs": [],
   "source": [
    "encoded_imgs = encoder.predict(x_train)\n",
    "decoded_imgs = decoder.predict(encoded_imgs)\n"
   ]
  },
  {
   "cell_type": "code",
   "execution_count": 23,
   "metadata": {},
   "outputs": [],
   "source": [
    "index_0=np.argwhere(y==0).reshape(-1,)\n",
    "index_1=np.argwhere(y==1).reshape(-1,)\n",
    "index_2=np.argwhere(y==2).reshape(-1,)\n",
    "index_3=np.argwhere(y==3).reshape(-1,)\n",
    "index_4=np.argwhere(y==4).reshape(-1,)"
   ]
  },
  {
   "cell_type": "code",
   "execution_count": 24,
   "metadata": {},
   "outputs": [
    {
     "data": {
      "image/png": "[encoded data removed]",
      "text/plain": [
       "<Figure size 432x288 with 1 Axes>"
      ]
     },
     "metadata": {},
     "output_type": "display_data"
    }
   ],
   "source": [
    "for i in index_0:\n",
    "    plt.plot(encoded_imgs[i][0],encoded_imgs[i][1],'.', color='b')\n",
    "for i in index_1:\n",
    "    plt.plot(encoded_imgs[i][0],encoded_imgs[i][1],'.', color='r')\n",
    "for i in index_2:\n",
    "    plt.plot(encoded_imgs[i][0],encoded_imgs[i][1],'.', color='g')\n",
    "for i in index_3:\n",
    "    plt.plot(encoded_imgs[i][0],encoded_imgs[i][1],'.', color='c')\n",
    "for i in index_4:\n",
    "    plt.plot(encoded_imgs[i][0],encoded_imgs[i][1],'.', color='y')\n"
   ]
  },
  {
   "cell_type": "code",
   "execution_count": 32,
   "metadata": {},
   "outputs": [
    {
     "data": {
      "image/png": "[encoded data removed]",
      "text/plain": [
       "<Figure size 720x288 with 20 Axes>"
      ]
     },
     "metadata": {},
     "output_type": "display_data"
    }
   ],
   "source": [
    "encoded_imgs = encoder.predict(x_train)\n",
    "decoded_imgs = decoder.predict(encoded_imgs)\n",
    " \n",
    "n = 10  # how many digits we will display\n",
    "plt.figure(figsize=(10, 4))\n",
    "for i in range(n):\n",
    "    ax = plt.subplot(2, n, i + 1)\n",
    "    plt.imshow(x_train[i].reshape(8, 8))\n",
    "    plt.gray()\n",
    "    ax.get_xaxis().set_visible(False)\n",
    "    ax.get_yaxis().set_visible(False)\n",
    " \n",
    "    ax = plt.subplot(2, n, i + 1 + n)\n",
    "    plt.imshow(decoded_imgs[i].reshape(8, 8))\n",
    "    plt.gray()\n",
    "    ax.get_xaxis().set_visible(False)\n",
    "    ax.get_yaxis().set_visible(False)\n",
    "plt.show()"
   ]
  },
  {
   "cell_type": "code",
   "execution_count": null,
   "metadata": {},
   "outputs": [],
   "source": []
  }
 ],
 "metadata": {
  "kernelspec": {
   "display_name": "Python 3",
   "language": "python",
   "name": "python3"
  },
  "language_info": {
   "codemirror_mode": {
    "name": "ipython",
    "version": 3
   },
   "file_extension": ".py",
   "mimetype": "text/x-python",
   "name": "python",
   "nbconvert_exporter": "python",
   "pygments_lexer": "ipython3",
   "version": "3.5.5"
  }
 },
 "nbformat": 4,
 "nbformat_minor": 2
}
