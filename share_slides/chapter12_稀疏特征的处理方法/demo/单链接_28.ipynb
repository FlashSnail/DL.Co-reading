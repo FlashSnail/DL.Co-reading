{
 "cells": [
  {
   "cell_type": "markdown",
   "metadata": {},
   "source": [
    "# 一层全链接隐藏层的Embedding(无激活函数)\n",
    "- 数据来源:keras.datasets.mnist.load_data() ， 28$\\times$28的单通道图片\n"
   ]
  },
  {
   "cell_type": "code",
   "execution_count": 1,
   "metadata": {},
   "outputs": [
    {
     "name": "stderr",
     "output_type": "stream",
     "text": [
      "Using TensorFlow backend.\n"
     ]
    }
   ],
   "source": [
    "from keras.layers import Input, Dense\n",
    "from keras.models import Model\n",
    "from keras.datasets import mnist\n",
    "import numpy as np\n",
    "import matplotlib.pyplot as plt"
   ]
  },
  {
   "cell_type": "code",
   "execution_count": 2,
   "metadata": {},
   "outputs": [],
   "source": [
    "(x_train, y_train), (x_test, y_test) = mnist.load_data()"
   ]
  },
  {
   "cell_type": "code",
   "execution_count": 3,
   "metadata": {},
   "outputs": [
    {
     "name": "stdout",
     "output_type": "stream",
     "text": [
      "(60000, 784)\n",
      "(10000, 784)\n",
      "Train on 60000 samples, validate on 10000 samples\n",
      "Epoch 1/50\n",
      "60000/60000 [==============================] - 3s 46us/step - loss: 0.3590 - val_loss: 0.2711\n",
      "Epoch 2/50\n",
      "60000/60000 [==============================] - 2s 40us/step - loss: 0.2642 - val_loss: 0.2541\n",
      "Epoch 3/50\n",
      "60000/60000 [==============================] - 2s 40us/step - loss: 0.2433 - val_loss: 0.2306\n",
      "Epoch 4/50\n",
      "60000/60000 [==============================] - 3s 42us/step - loss: 0.2218 - val_loss: 0.2114\n",
      "Epoch 5/50\n",
      "60000/60000 [==============================] - 3s 42us/step - loss: 0.2063 - val_loss: 0.1989\n",
      "Epoch 6/50\n",
      "60000/60000 [==============================] - 2s 40us/step - loss: 0.1957 - val_loss: 0.1900\n",
      "Epoch 7/50\n",
      "60000/60000 [==============================] - 2s 40us/step - loss: 0.1877 - val_loss: 0.1827\n",
      "Epoch 8/50\n",
      "60000/60000 [==============================] - 2s 40us/step - loss: 0.1810 - val_loss: 0.1767\n",
      "Epoch 9/50\n",
      "60000/60000 [==============================] - 2s 40us/step - loss: 0.1754 - val_loss: 0.1715\n",
      "Epoch 10/50\n",
      "60000/60000 [==============================] - 2s 40us/step - loss: 0.1705 - val_loss: 0.1669\n",
      "Epoch 11/50\n",
      "60000/60000 [==============================] - 2s 40us/step - loss: 0.1661 - val_loss: 0.1628\n",
      "Epoch 12/50\n",
      "60000/60000 [==============================] - 2s 41us/step - loss: 0.1622 - val_loss: 0.1589\n",
      "Epoch 13/50\n",
      "60000/60000 [==============================] - 2s 41us/step - loss: 0.1584 - val_loss: 0.1553\n",
      "Epoch 14/50\n",
      "60000/60000 [==============================] - 2s 41us/step - loss: 0.1549 - val_loss: 0.1517\n",
      "Epoch 15/50\n",
      "60000/60000 [==============================] - 2s 40us/step - loss: 0.1515 - val_loss: 0.1485\n",
      "Epoch 16/50\n",
      "60000/60000 [==============================] - 2s 40us/step - loss: 0.1482 - val_loss: 0.1453\n",
      "Epoch 17/50\n",
      "60000/60000 [==============================] - 2s 40us/step - loss: 0.1451 - val_loss: 0.1422\n",
      "Epoch 18/50\n",
      "60000/60000 [==============================] - 2s 40us/step - loss: 0.1422 - val_loss: 0.1394\n",
      "Epoch 19/50\n",
      "60000/60000 [==============================] - 2s 40us/step - loss: 0.1395 - val_loss: 0.1367\n",
      "Epoch 20/50\n",
      "60000/60000 [==============================] - 2s 40us/step - loss: 0.1370 - val_loss: 0.1345\n",
      "Epoch 21/50\n",
      "60000/60000 [==============================] - 2s 41us/step - loss: 0.1346 - val_loss: 0.1319\n",
      "Epoch 22/50\n",
      "60000/60000 [==============================] - 2s 40us/step - loss: 0.1323 - val_loss: 0.1297\n",
      "Epoch 23/50\n",
      "60000/60000 [==============================] - 2s 40us/step - loss: 0.1302 - val_loss: 0.1276\n",
      "Epoch 24/50\n",
      "60000/60000 [==============================] - 2s 41us/step - loss: 0.1282 - val_loss: 0.1256\n",
      "Epoch 25/50\n",
      "60000/60000 [==============================] - 2s 41us/step - loss: 0.1262 - val_loss: 0.1238\n",
      "Epoch 26/50\n",
      "60000/60000 [==============================] - 2s 40us/step - loss: 0.1244 - val_loss: 0.1220\n",
      "Epoch 27/50\n",
      "60000/60000 [==============================] - 2s 39us/step - loss: 0.1227 - val_loss: 0.1204\n",
      "Epoch 28/50\n",
      "60000/60000 [==============================] - 2s 39us/step - loss: 0.1211 - val_loss: 0.1188\n",
      "Epoch 29/50\n",
      "60000/60000 [==============================] - 2s 41us/step - loss: 0.1197 - val_loss: 0.1174\n",
      "Epoch 30/50\n",
      "60000/60000 [==============================] - 2s 40us/step - loss: 0.1183 - val_loss: 0.1160\n",
      "Epoch 31/50\n",
      "60000/60000 [==============================] - 2s 39us/step - loss: 0.1170 - val_loss: 0.1148\n",
      "Epoch 32/50\n",
      "60000/60000 [==============================] - 2s 39us/step - loss: 0.1158 - val_loss: 0.1137\n",
      "Epoch 33/50\n",
      "60000/60000 [==============================] - 2s 39us/step - loss: 0.1147 - val_loss: 0.1126\n",
      "Epoch 34/50\n",
      "60000/60000 [==============================] - 2s 39us/step - loss: 0.1137 - val_loss: 0.1116\n",
      "Epoch 35/50\n",
      "60000/60000 [==============================] - 2s 39us/step - loss: 0.1128 - val_loss: 0.1107\n",
      "Epoch 36/50\n",
      "60000/60000 [==============================] - 2s 40us/step - loss: 0.1119 - val_loss: 0.1099\n",
      "Epoch 37/50\n",
      "60000/60000 [==============================] - 2s 40us/step - loss: 0.1111 - val_loss: 0.1091\n",
      "Epoch 38/50\n",
      "60000/60000 [==============================] - 2s 40us/step - loss: 0.1104 - val_loss: 0.1084\n",
      "Epoch 39/50\n",
      "60000/60000 [==============================] - 2s 39us/step - loss: 0.1097 - val_loss: 0.1078\n",
      "Epoch 40/50\n",
      "60000/60000 [==============================] - 2s 40us/step - loss: 0.1091 - val_loss: 0.1072\n",
      "Epoch 41/50\n",
      "60000/60000 [==============================] - 2s 40us/step - loss: 0.1085 - val_loss: 0.1065\n",
      "Epoch 42/50\n",
      "60000/60000 [==============================] - 2s 40us/step - loss: 0.1079 - val_loss: 0.1060\n",
      "Epoch 43/50\n",
      "60000/60000 [==============================] - 2s 40us/step - loss: 0.1074 - val_loss: 0.1055\n",
      "Epoch 44/50\n",
      "60000/60000 [==============================] - 2s 40us/step - loss: 0.1069 - val_loss: 0.1050\n",
      "Epoch 45/50\n",
      "60000/60000 [==============================] - 2s 39us/step - loss: 0.1064 - val_loss: 0.1046\n",
      "Epoch 46/50\n",
      "60000/60000 [==============================] - 2s 39us/step - loss: 0.1060 - val_loss: 0.1041\n",
      "Epoch 47/50\n",
      "60000/60000 [==============================] - 2s 39us/step - loss: 0.1056 - val_loss: 0.1037\n",
      "Epoch 48/50\n",
      "60000/60000 [==============================] - 2s 39us/step - loss: 0.1052 - val_loss: 0.1033\n",
      "Epoch 49/50\n",
      "60000/60000 [==============================] - 2s 39us/step - loss: 0.1048 - val_loss: 0.1030\n",
      "Epoch 50/50\n",
      "60000/60000 [==============================] - 2s 39us/step - loss: 0.1044 - val_loss: 0.1027\n"
     ]
    },
    {
     "data": {
      "image/png": "[encoded data removed]",
      "text/plain": [
       "<Figure size 1440x288 with 20 Axes>"
      ]
     },
     "metadata": {},
     "output_type": "display_data"
    }
   ],
   "source": [
    "\n",
    " \n",
    "x_train = x_train.astype('float32') / 255.\n",
    "x_test = x_test.astype('float32') / 255.\n",
    "x_train = x_train.reshape((len(x_train), np.prod(x_train.shape[1:])))\n",
    "x_test = x_test.reshape((len(x_test), np.prod(x_test.shape[1:])))\n",
    "print(x_train.shape)\n",
    "print(x_test.shape)\n",
    " \n",
    "encoding_dim = 32\n",
    "input_img = Input(shape=(784,))\n",
    " \n",
    "encoded = Dense(encoding_dim, activation='relu')(input_img)\n",
    "decoded = Dense(784, activation='sigmoid')(encoded)\n",
    " \n",
    "autoencoder = Model(inputs=input_img, outputs=decoded)\n",
    "encoder = Model(inputs=input_img, outputs=encoded)\n",
    " \n",
    "encoded_input = Input(shape=(encoding_dim,))\n",
    "decoder_layer = autoencoder.layers[-1]\n",
    " \n",
    "decoder = Model(inputs=encoded_input, outputs=decoder_layer(encoded_input))\n",
    " \n",
    "autoencoder.compile(optimizer='adadelta', loss='binary_crossentropy')\n",
    " \n",
    "autoencoder.fit(x_train, x_train, epochs=50, batch_size=256, \n",
    "                shuffle=True, validation_data=(x_test, x_test))\n",
    " \n",
    "encoded_imgs = encoder.predict(x_test)\n",
    "decoded_imgs = decoder.predict(encoded_imgs)\n",
    " \n",
    "n = 10  # how many digits we will display\n",
    "plt.figure(figsize=(20, 4))\n",
    "for i in range(n):\n",
    "    ax = plt.subplot(2, n, i + 1)\n",
    "    plt.imshow(x_test[i].reshape(28, 28))\n",
    "    plt.gray()\n",
    "    ax.get_xaxis().set_visible(False)\n",
    "    ax.get_yaxis().set_visible(False)\n",
    " \n",
    "    ax = plt.subplot(2, n, i + 1 + n)\n",
    "    plt.imshow(decoded_imgs[i].reshape(28, 28))\n",
    "    plt.gray()\n",
    "    ax.get_xaxis().set_visible(False)\n",
    "    ax.get_yaxis().set_visible(False)\n",
    "plt.show()\n",
    "\n"
   ]
  },
  {
   "cell_type": "code",
   "execution_count": 4,
   "metadata": {},
   "outputs": [],
   "source": [
    "index_0=np.argwhere(y_test==0).reshape(-1,)\n",
    "index_1=np.argwhere(y_test==1).reshape(-1,)\n",
    "index_2=np.argwhere(y_test==2).reshape(-1,)\n",
    "index_3=np.argwhere(y_test==3).reshape(-1,)\n",
    "index_4=np.argwhere(y_test==4).reshape(-1,)\n"
   ]
  },
  {
   "cell_type": "code",
   "execution_count": null,
   "metadata": {},
   "outputs": [],
   "source": []
  }
 ],
 "metadata": {
  "kernelspec": {
   "display_name": "Python 3",
   "language": "python",
   "name": "python3"
  },
  "language_info": {
   "codemirror_mode": {
    "name": "ipython",
    "version": 3
   },
   "file_extension": ".py",
   "mimetype": "text/x-python",
   "name": "python",
   "nbconvert_exporter": "python",
   "pygments_lexer": "ipython3",
   "version": "3.5.5"
  }
 },
 "nbformat": 4,
 "nbformat_minor": 2
}
