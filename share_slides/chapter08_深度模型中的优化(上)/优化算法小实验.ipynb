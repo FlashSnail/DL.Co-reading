{
 "cells": [
  {
   "cell_type": "code",
   "execution_count": 1,
   "metadata": {},
   "outputs": [
    {
     "name": "stderr",
     "output_type": "stream",
     "text": [
      "D:\\software\\anaconda\\envs\\dnn\\lib\\site-packages\\sklearn\\cross_validation.py:41: DeprecationWarning: This module was deprecated in version 0.18 in favor of the model_selection module into which all the refactored classes and functions are moved. Also note that the interface of the new CV iterators are different from that of this module. This module will be removed in 0.20.\n",
      "  \"This module will be removed in 0.20.\", DeprecationWarning)\n"
     ]
    }
   ],
   "source": [
    "import tensorflow as tf\n",
    "import pandas as pd\n",
    "import numpy as np\n",
    "from sklearn.cross_validation import train_test_split,KFold\n",
    "from functools import reduce"
   ]
  },
  {
   "cell_type": "code",
   "execution_count": 2,
   "metadata": {},
   "outputs": [],
   "source": [
    "use_n=10000\n",
    "x1=np.random.random(use_n)*100-50\n",
    "x2=np.random.random(use_n)*100-50\n",
    "input_x=pd.DataFrame({'x1':x1,'x2':x2})\n",
    "input_y=input_x.apply(lambda x: 1 if reduce(lambda x1,x2:x1*x2,x)>0 else 0,1)\n",
    "\n",
    "\n",
    "train_x,test_x,train_y,test_y=train_test_split(input_x,input_y,test_size=0.3)\n",
    "input_y=np.array(train_y).reshape([train_y.shape[0],1]).T\n",
    "input_x=np.array(train_x).T\n",
    "test_y=np.array(test_y).reshape([test_y.shape[0],1]).T\n",
    "test_x=np.array(test_x).T"
   ]
  },
  {
   "cell_type": "code",
   "execution_count": 4,
   "metadata": {},
   "outputs": [
    {
     "name": "stdout",
     "output_type": "stream",
     "text": [
      "WARNING:tensorflow:From D:\\software\\anaconda\\envs\\dnn\\lib\\site-packages\\tensorflow\\python\\util\\tf_should_use.py:170: initialize_all_variables (from tensorflow.python.ops.variables) is deprecated and will be removed after 2017-03-02.\n",
      "Instructions for updating:\n",
      "Use `tf.global_variables_initializer` instead.\n",
      "After 0 iteration:\n",
      "0.73102134\n",
      "0.7696359\n",
      "After 100 iteration:\n",
      "0.60962343\n",
      "0.60111105\n",
      "After 200 iteration:\n",
      "0.6057799\n",
      "0.6029396\n",
      "After 300 iteration:\n",
      "0.5902141\n",
      "0.6014123\n",
      "After 400 iteration:\n",
      "0.6209779\n",
      "0.59997624\n",
      "After 500 iteration:\n",
      "0.60612386\n",
      "0.60041034\n",
      "After 600 iteration:\n",
      "0.5753828\n",
      "0.6037778\n",
      "After 700 iteration:\n",
      "0.6323671\n",
      "0.6004199\n",
      "After 800 iteration:\n",
      "0.5639862\n",
      "0.601065\n",
      "After 900 iteration:\n",
      "0.61332875\n",
      "0.59932536\n",
      "[[ -0.52450776  -0.1045263 ]\n",
      " [ -2.5010116  -37.96433   ]\n",
      " [-42.588318     1.2217172 ]\n",
      " [ -0.4753679    2.7002068 ]]\n"
     ]
    },
    {
     "data": {
      "text/plain": [
       "<matplotlib.axes._subplots.AxesSubplot at 0x184f4fd0>"
      ]
     },
     "execution_count": 4,
     "metadata": {},
     "output_type": "execute_result"
    },
    {
     "data": {
      "image/png": "[encoded data removed]",
      "text/plain": [
       "<Figure size 432x288 with 1 Axes>"
      ]
     },
     "metadata": {},
     "output_type": "display_data"
    }
   ],
   "source": [
    "small_test=tf.Graph()\n",
    "with small_test.as_default():\n",
    "    #正向传播\n",
    "    x_place=tf.placeholder('float',(2,None),name='x')\n",
    "    y_place=tf.placeholder('float',(1,None),name='y')\n",
    "    \n",
    "    All_x = np.empty(shape=[1,2])\n",
    "    All_y = np.empty(shape=[1,1])\n",
    "    w1=tf.Variable(tf.random_normal([4,2],stddev=1,seed=100),name='w1')\n",
    "    t1=tf.matmul(w1,x_place,name='t1')\n",
    "    a1=tf.nn.relu(t1,name='a1')\n",
    "    w2=tf.Variable(tf.random_normal([1,4],stddev=1,seed=100),name='w2')\n",
    "    t2=tf.matmul(w2,a1,name='t2')\n",
    "    a2=tf.nn.sigmoid(t2,name='output')\n",
    "    cost=tf.reduce_mean(tf.nn.sigmoid_cross_entropy_with_logits(logits=a2,labels=y_place))\n",
    "    \n",
    "    #反向传播\n",
    "    l_r=tf.Variable(0.,'l_r')\n",
    "    mm=tf.Variable(0.,'mm')\n",
    "    \n",
    "    #优化器设定\n",
    "    #动量\n",
    "    train=tf.train.MomentumOptimizer(learning_rate=l_r,momentum=mm).minimize(cost)\n",
    "    #梯度下降，全量样本训练为gd，抽样为sgd\n",
    "    #train=tf.train.GradientDescentOptimizer(learning_rate=l_r).minimize(cost)\n",
    "    init = tf.initialize_all_variables()\n",
    "    sess = tf.Session()\n",
    "    with sess.as_default():\n",
    "        sess.run(init)\n",
    "    loss_list=[]\n",
    "    test_list=[]\n",
    "    for  i in list(range(1000)):\n",
    "        #rate=1\n",
    "        rate=max([(1-1/300)*10+0.1,0.1])\n",
    "        #mmr=0.99\n",
    "        mmr=min([i/600*0.99,0.99])\n",
    "        sess.run(tf.assign(l_r, rate))\n",
    "        sess.run(tf.assign(mm, mmr))\n",
    "        batch=list(pd.Series(range(input_y.shape[1])).sample(100))\n",
    "\n",
    "        if i%100==0:\n",
    "            print(\"After %d iteration:\"%i)\n",
    "            print(sess.run(cost,feed_dict={y_place:input_y[:,batch],x_place:input_x[:,batch]}))\n",
    "            print(sess.run(cost,feed_dict={y_place:test_y,x_place:test_x}))\n",
    "\n",
    "        t=sess.run(cost,feed_dict={y_place:test_y,x_place:test_x})\n",
    "        a=sess.run(cost,feed_dict={y_place:input_y[:,batch],x_place:input_x[:,batch]})\n",
    "        \n",
    "        loss_list.append(a)\n",
    "        test_list.append(t)\n",
    "        sess.run(train,feed_dict={y_place:input_y,x_place:input_x})\n",
    "\n",
    "    print(sess.run(w1))\n",
    "%matplotlib inline\n",
    "a=pd.DataFrame({'train':loss_list,'test':test_list})\n",
    "a.plot(kind='line')  "
   ]
  },
  {
   "cell_type": "code",
   "execution_count": null,
   "metadata": {},
   "outputs": [],
   "source": []
  }
 ],
 "metadata": {
  "kernelspec": {
   "display_name": "Python 3",
   "language": "python",
   "name": "python3"
  },
  "language_info": {
   "codemirror_mode": {
    "name": "ipython",
    "version": 3
   },
   "file_extension": ".py",
   "mimetype": "text/x-python",
   "name": "python",
   "nbconvert_exporter": "python",
   "pygments_lexer": "ipython3",
   "version": "3.6.4"
  }
 },
 "nbformat": 4,
 "nbformat_minor": 2
}
